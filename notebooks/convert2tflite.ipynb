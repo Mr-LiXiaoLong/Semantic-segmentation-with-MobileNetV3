{
 "cells": [
  {
   "cell_type": "code",
   "execution_count": null,
   "metadata": {},
   "outputs": [],
   "source": [
    "import tensorflow as tf\n",
    "\n",
    "from train.train import Model\n",
    "from modules.datasets import ImageTargetDataset\n",
    "from modules.segm_transforms import convert_transforms\n",
    "\n",
    "%load_ext autoreload\n",
    "%autoreload 2"
   ]
  },
  {
   "cell_type": "code",
   "execution_count": null,
   "metadata": {},
   "outputs": [],
   "source": [
    "device = 'GPU:0'\n",
    "model_name = 'mobilenet_small'\n",
    "n_class=1\n",
    "load_model_path = '/workdir/data/experiments/mobilenetv3_tf_coco_pixart_supervisely_portrets_224_square_crop/model_best_0.005900000222027302.h5'\n",
    "INPUT_SIZE = (224, 224)\n",
    "\n",
    "mobilenet_model = Model(device=device,\n",
    "                        model_name=model_name,\n",
    "                        n_class=n_class,\n",
    "                        input_shape=(1, INPUT_SIZE[0], INPUT_SIZE[1], 3),\n",
    "                        old_model_path=load_model_path, shape=INPUT_SIZE)"
   ]
  },
  {
   "cell_type": "markdown",
   "metadata": {},
   "source": [
    "### Basic tflite model"
   ]
  },
  {
   "cell_type": "code",
   "execution_count": null,
   "metadata": {},
   "outputs": [],
   "source": [
    "converter = tf.lite.TFLiteConverter.from_keras_model(mobilenet_model.model)\n",
    "tflite_model = converter.convert()\n",
    "open(\"/workdir/data/tflite_models/converted_model_224_3.tflite\",\n",
    "     \"wb\").write(tflite_model)"
   ]
  },
  {
   "cell_type": "markdown",
   "metadata": {},
   "source": [
    "### Full integer quantization of weights and activations"
   ]
  },
  {
   "cell_type": "code",
   "execution_count": null,
   "metadata": {},
   "outputs": [],
   "source": [
    "val_trns = convert_transforms(scale_size=INPUT_SIZE)\n",
    "val_dataset = ImageTargetDataset(['/workdir/data/datasets/portrets/val'], 1,\n",
    "                                 shuffle=False,\n",
    "                                 device='GPU:0',\n",
    "                                 **val_trns,\n",
    "                                 IMG_EXTN='.jpg',\n",
    "                                 TRGT_EXTN='.png')\n",
    "\n",
    "def representative_dataset_generator():\n",
    "    for input_value, target_value in val_dataset:\n",
    "            yield [input_value]\n"
   ]
  },
  {
   "cell_type": "code",
   "execution_count": null,
   "metadata": {},
   "outputs": [],
   "source": [
    "converter = tf.lite.TFLiteConverter.from_keras_model(mobilenet_model.model)\n",
    "converter.optimizations = [tf.lite.Optimize.DEFAULT]\n",
    "converter.representative_dataset = representative_dataset_generator\n",
    "converter.target_spec.supported_ops = [tf.lite.OpsSet.TFLITE_BUILTINS_INT8]\n",
    "converter.inference_input_type = tf.int8\n",
    "converter.inference_output_type = tf.int8\n",
    "tflite_quant_model = converter.convert()\n",
    "open(\"/workdir/data/tflite_models/converted_model_224_3qu.tflite\",\n",
    "     \"wb\").write(tflite_quant_model)"
   ]
  },
  {
   "cell_type": "code",
   "execution_count": null,
   "metadata": {},
   "outputs": [],
   "source": []
  }
 ],
 "metadata": {
  "kernelspec": {
   "display_name": "Python 3",
   "language": "python",
   "name": "python3"
  },
  "language_info": {
   "codemirror_mode": {
    "name": "ipython",
    "version": 3
   },
   "file_extension": ".py",
   "mimetype": "text/x-python",
   "name": "python",
   "nbconvert_exporter": "python",
   "pygments_lexer": "ipython3",
   "version": "3.6.9"
  }
 },
 "nbformat": 4,
 "nbformat_minor": 4
}
